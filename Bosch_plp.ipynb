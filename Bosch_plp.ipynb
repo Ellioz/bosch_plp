{
 "cells": [
  {
   "cell_type": "code",
   "execution_count": 2,
   "metadata": {
    "collapsed": true
   },
   "outputs": [],
   "source": [
    "import pandas as pd\n",
    "import numpy as np\n",
    "import matplotlib\n",
    "%matplotlib inline"
   ]
  },
  {
   "cell_type": "code",
   "execution_count": 3,
   "metadata": {
    "collapsed": true
   },
   "outputs": [],
   "source": [
    "df_numeric = pd.read_csv(\"train_numeric.csv\")"
   ]
  },
  {
   "cell_type": "code",
   "execution_count": 4,
   "metadata": {
    "collapsed": false
   },
   "outputs": [
    {
     "data": {
      "text/html": [
       "<div>\n",
       "<table border=\"1\" class=\"dataframe\">\n",
       "  <thead>\n",
       "    <tr style=\"text-align: right;\">\n",
       "      <th></th>\n",
       "      <th>Id</th>\n",
       "      <th>L0_S0_F0</th>\n",
       "      <th>L0_S0_F2</th>\n",
       "      <th>L0_S0_F4</th>\n",
       "      <th>L0_S0_F6</th>\n",
       "      <th>L0_S0_F8</th>\n",
       "      <th>L0_S0_F10</th>\n",
       "      <th>L0_S0_F12</th>\n",
       "      <th>L0_S0_F14</th>\n",
       "      <th>L0_S0_F16</th>\n",
       "      <th>...</th>\n",
       "      <th>L3_S50_F4245</th>\n",
       "      <th>L3_S50_F4247</th>\n",
       "      <th>L3_S50_F4249</th>\n",
       "      <th>L3_S50_F4251</th>\n",
       "      <th>L3_S50_F4253</th>\n",
       "      <th>L3_S51_F4256</th>\n",
       "      <th>L3_S51_F4258</th>\n",
       "      <th>L3_S51_F4260</th>\n",
       "      <th>L3_S51_F4262</th>\n",
       "      <th>Response</th>\n",
       "    </tr>\n",
       "  </thead>\n",
       "  <tbody>\n",
       "    <tr>\n",
       "      <th>0</th>\n",
       "      <td>4</td>\n",
       "      <td>0.030</td>\n",
       "      <td>-0.034</td>\n",
       "      <td>-0.197</td>\n",
       "      <td>-0.179</td>\n",
       "      <td>0.118</td>\n",
       "      <td>0.116</td>\n",
       "      <td>-0.015</td>\n",
       "      <td>-0.032</td>\n",
       "      <td>0.020</td>\n",
       "      <td>...</td>\n",
       "      <td>NaN</td>\n",
       "      <td>NaN</td>\n",
       "      <td>NaN</td>\n",
       "      <td>NaN</td>\n",
       "      <td>NaN</td>\n",
       "      <td>NaN</td>\n",
       "      <td>NaN</td>\n",
       "      <td>NaN</td>\n",
       "      <td>NaN</td>\n",
       "      <td>0</td>\n",
       "    </tr>\n",
       "    <tr>\n",
       "      <th>1</th>\n",
       "      <td>6</td>\n",
       "      <td>NaN</td>\n",
       "      <td>NaN</td>\n",
       "      <td>NaN</td>\n",
       "      <td>NaN</td>\n",
       "      <td>NaN</td>\n",
       "      <td>NaN</td>\n",
       "      <td>NaN</td>\n",
       "      <td>NaN</td>\n",
       "      <td>NaN</td>\n",
       "      <td>...</td>\n",
       "      <td>NaN</td>\n",
       "      <td>NaN</td>\n",
       "      <td>NaN</td>\n",
       "      <td>NaN</td>\n",
       "      <td>NaN</td>\n",
       "      <td>NaN</td>\n",
       "      <td>NaN</td>\n",
       "      <td>NaN</td>\n",
       "      <td>NaN</td>\n",
       "      <td>0</td>\n",
       "    </tr>\n",
       "    <tr>\n",
       "      <th>2</th>\n",
       "      <td>7</td>\n",
       "      <td>0.088</td>\n",
       "      <td>0.086</td>\n",
       "      <td>0.003</td>\n",
       "      <td>-0.052</td>\n",
       "      <td>0.161</td>\n",
       "      <td>0.025</td>\n",
       "      <td>-0.015</td>\n",
       "      <td>-0.072</td>\n",
       "      <td>-0.225</td>\n",
       "      <td>...</td>\n",
       "      <td>NaN</td>\n",
       "      <td>NaN</td>\n",
       "      <td>NaN</td>\n",
       "      <td>NaN</td>\n",
       "      <td>NaN</td>\n",
       "      <td>NaN</td>\n",
       "      <td>NaN</td>\n",
       "      <td>NaN</td>\n",
       "      <td>NaN</td>\n",
       "      <td>0</td>\n",
       "    </tr>\n",
       "    <tr>\n",
       "      <th>3</th>\n",
       "      <td>9</td>\n",
       "      <td>-0.036</td>\n",
       "      <td>-0.064</td>\n",
       "      <td>0.294</td>\n",
       "      <td>0.330</td>\n",
       "      <td>0.074</td>\n",
       "      <td>0.161</td>\n",
       "      <td>0.022</td>\n",
       "      <td>0.128</td>\n",
       "      <td>-0.026</td>\n",
       "      <td>...</td>\n",
       "      <td>NaN</td>\n",
       "      <td>NaN</td>\n",
       "      <td>NaN</td>\n",
       "      <td>NaN</td>\n",
       "      <td>NaN</td>\n",
       "      <td>NaN</td>\n",
       "      <td>NaN</td>\n",
       "      <td>NaN</td>\n",
       "      <td>NaN</td>\n",
       "      <td>0</td>\n",
       "    </tr>\n",
       "    <tr>\n",
       "      <th>4</th>\n",
       "      <td>11</td>\n",
       "      <td>-0.055</td>\n",
       "      <td>-0.086</td>\n",
       "      <td>0.294</td>\n",
       "      <td>0.330</td>\n",
       "      <td>0.118</td>\n",
       "      <td>0.025</td>\n",
       "      <td>0.030</td>\n",
       "      <td>0.168</td>\n",
       "      <td>-0.169</td>\n",
       "      <td>...</td>\n",
       "      <td>NaN</td>\n",
       "      <td>NaN</td>\n",
       "      <td>NaN</td>\n",
       "      <td>NaN</td>\n",
       "      <td>NaN</td>\n",
       "      <td>NaN</td>\n",
       "      <td>NaN</td>\n",
       "      <td>NaN</td>\n",
       "      <td>NaN</td>\n",
       "      <td>0</td>\n",
       "    </tr>\n",
       "  </tbody>\n",
       "</table>\n",
       "<p>5 rows × 970 columns</p>\n",
       "</div>"
      ],
      "text/plain": [
       "   Id  L0_S0_F0  L0_S0_F2  L0_S0_F4  L0_S0_F6  L0_S0_F8  L0_S0_F10  L0_S0_F12  \\\n",
       "0   4     0.030    -0.034    -0.197    -0.179     0.118      0.116     -0.015   \n",
       "1   6       NaN       NaN       NaN       NaN       NaN        NaN        NaN   \n",
       "2   7     0.088     0.086     0.003    -0.052     0.161      0.025     -0.015   \n",
       "3   9    -0.036    -0.064     0.294     0.330     0.074      0.161      0.022   \n",
       "4  11    -0.055    -0.086     0.294     0.330     0.118      0.025      0.030   \n",
       "\n",
       "   L0_S0_F14  L0_S0_F16    ...     L3_S50_F4245  L3_S50_F4247  L3_S50_F4249  \\\n",
       "0     -0.032      0.020    ...              NaN           NaN           NaN   \n",
       "1        NaN        NaN    ...              NaN           NaN           NaN   \n",
       "2     -0.072     -0.225    ...              NaN           NaN           NaN   \n",
       "3      0.128     -0.026    ...              NaN           NaN           NaN   \n",
       "4      0.168     -0.169    ...              NaN           NaN           NaN   \n",
       "\n",
       "   L3_S50_F4251  L3_S50_F4253  L3_S51_F4256  L3_S51_F4258  L3_S51_F4260  \\\n",
       "0           NaN           NaN           NaN           NaN           NaN   \n",
       "1           NaN           NaN           NaN           NaN           NaN   \n",
       "2           NaN           NaN           NaN           NaN           NaN   \n",
       "3           NaN           NaN           NaN           NaN           NaN   \n",
       "4           NaN           NaN           NaN           NaN           NaN   \n",
       "\n",
       "   L3_S51_F4262  Response  \n",
       "0           NaN         0  \n",
       "1           NaN         0  \n",
       "2           NaN         0  \n",
       "3           NaN         0  \n",
       "4           NaN         0  \n",
       "\n",
       "[5 rows x 970 columns]"
      ]
     },
     "execution_count": 4,
     "metadata": {},
     "output_type": "execute_result"
    }
   ],
   "source": [
    "df_numeric.head()"
   ]
  },
  {
   "cell_type": "code",
   "execution_count": 5,
   "metadata": {
    "collapsed": false,
    "scrolled": true
   },
   "outputs": [
    {
     "data": {
      "text/plain": [
       "1183747"
      ]
     },
     "execution_count": 5,
     "metadata": {},
     "output_type": "execute_result"
    }
   ],
   "source": [
    "df_tags = df_numeric[[\"Id\", \"Response\"]]\n",
    "len(df_numeric)"
   ]
  },
  {
   "cell_type": "code",
   "execution_count": 6,
   "metadata": {
    "collapsed": false
   },
   "outputs": [],
   "source": [
    "# group features into lines and stations\n",
    "lines = {}\n",
    "for col in df_numeric.columns[1:-1]:\n",
    "    piece = [pc[1:] for pc in col.split(\"_\")]\n",
    "    \n",
    "    if len(piece) != 3:\n",
    "        print \"Invalid column format: %s\" % col\n",
    "        continue\n",
    "        \n",
    "    if piece[0] not in lines:\n",
    "        lines[piece[0]] = {}\n",
    "    \n",
    "    if piece[1] not in lines[piece[0]]:\n",
    "        lines[piece[0]][piece[1]] = []\n",
    "    \n",
    "    lines[piece[0]][piece[1]].append((piece[2], col))"
   ]
  },
  {
   "cell_type": "code",
   "execution_count": 7,
   "metadata": {
    "collapsed": false
   },
   "outputs": [
    {
     "name": "stdout",
     "output_type": "stream",
     "text": [
      "24\n",
      "168\n",
      "2\n",
      "513\n",
      "3\n",
      "42\n",
      "21\n",
      "245\n"
     ]
    }
   ],
   "source": [
    "print len(lines['0'])\n",
    "print sum([len(lines['0'][col]) for col in lines['0']])\n",
    "print len(lines['1'])\n",
    "print sum([len(lines['1'][col]) for col in lines['1']])\n",
    "print len(lines['2'])\n",
    "print sum([len(lines['2'][col]) for col in lines['2']])\n",
    "print len(lines['3'])\n",
    "print sum([len(lines['3'][col]) for col in lines['3']])"
   ]
  },
  {
   "cell_type": "code",
   "execution_count": 8,
   "metadata": {
    "collapsed": false
   },
   "outputs": [
    {
     "data": {
      "text/plain": [
       "['26', '27', '28']"
      ]
     },
     "execution_count": 8,
     "metadata": {},
     "output_type": "execute_result"
    }
   ],
   "source": [
    "# analysis of line 2 data\n",
    "lines['2'].keys()"
   ]
  },
  {
   "cell_type": "code",
   "execution_count": 19,
   "metadata": {
    "collapsed": false
   },
   "outputs": [],
   "source": [
    "df_226 = df_numeric[[tup[1] for tup in lines['2']['26']] + ['Id', 'Response']]"
   ]
  },
  {
   "cell_type": "code",
   "execution_count": 20,
   "metadata": {
    "collapsed": false
   },
   "outputs": [
    {
     "data": {
      "text/html": [
       "<div>\n",
       "<table border=\"1\" class=\"dataframe\">\n",
       "  <thead>\n",
       "    <tr style=\"text-align: right;\">\n",
       "      <th></th>\n",
       "      <th>L2_S26_F3036</th>\n",
       "      <th>L2_S26_F3040</th>\n",
       "      <th>L2_S26_F3047</th>\n",
       "      <th>L2_S26_F3051</th>\n",
       "      <th>L2_S26_F3055</th>\n",
       "      <th>L2_S26_F3062</th>\n",
       "      <th>L2_S26_F3069</th>\n",
       "      <th>L2_S26_F3073</th>\n",
       "      <th>L2_S26_F3077</th>\n",
       "      <th>L2_S26_F3106</th>\n",
       "      <th>L2_S26_F3113</th>\n",
       "      <th>L2_S26_F3117</th>\n",
       "      <th>L2_S26_F3121</th>\n",
       "      <th>L2_S26_F3125</th>\n",
       "      <th>Id</th>\n",
       "      <th>Response</th>\n",
       "    </tr>\n",
       "  </thead>\n",
       "  <tbody>\n",
       "    <tr>\n",
       "      <th>0</th>\n",
       "      <td>NaN</td>\n",
       "      <td>NaN</td>\n",
       "      <td>NaN</td>\n",
       "      <td>NaN</td>\n",
       "      <td>NaN</td>\n",
       "      <td>NaN</td>\n",
       "      <td>NaN</td>\n",
       "      <td>NaN</td>\n",
       "      <td>NaN</td>\n",
       "      <td>NaN</td>\n",
       "      <td>NaN</td>\n",
       "      <td>NaN</td>\n",
       "      <td>NaN</td>\n",
       "      <td>NaN</td>\n",
       "      <td>4</td>\n",
       "      <td>0</td>\n",
       "    </tr>\n",
       "    <tr>\n",
       "      <th>1</th>\n",
       "      <td>NaN</td>\n",
       "      <td>NaN</td>\n",
       "      <td>NaN</td>\n",
       "      <td>NaN</td>\n",
       "      <td>NaN</td>\n",
       "      <td>NaN</td>\n",
       "      <td>NaN</td>\n",
       "      <td>NaN</td>\n",
       "      <td>NaN</td>\n",
       "      <td>NaN</td>\n",
       "      <td>NaN</td>\n",
       "      <td>NaN</td>\n",
       "      <td>NaN</td>\n",
       "      <td>NaN</td>\n",
       "      <td>6</td>\n",
       "      <td>0</td>\n",
       "    </tr>\n",
       "    <tr>\n",
       "      <th>2</th>\n",
       "      <td>NaN</td>\n",
       "      <td>NaN</td>\n",
       "      <td>NaN</td>\n",
       "      <td>NaN</td>\n",
       "      <td>NaN</td>\n",
       "      <td>NaN</td>\n",
       "      <td>NaN</td>\n",
       "      <td>NaN</td>\n",
       "      <td>NaN</td>\n",
       "      <td>NaN</td>\n",
       "      <td>NaN</td>\n",
       "      <td>NaN</td>\n",
       "      <td>NaN</td>\n",
       "      <td>NaN</td>\n",
       "      <td>7</td>\n",
       "      <td>0</td>\n",
       "    </tr>\n",
       "    <tr>\n",
       "      <th>3</th>\n",
       "      <td>NaN</td>\n",
       "      <td>NaN</td>\n",
       "      <td>NaN</td>\n",
       "      <td>NaN</td>\n",
       "      <td>NaN</td>\n",
       "      <td>NaN</td>\n",
       "      <td>NaN</td>\n",
       "      <td>NaN</td>\n",
       "      <td>NaN</td>\n",
       "      <td>NaN</td>\n",
       "      <td>NaN</td>\n",
       "      <td>NaN</td>\n",
       "      <td>NaN</td>\n",
       "      <td>NaN</td>\n",
       "      <td>9</td>\n",
       "      <td>0</td>\n",
       "    </tr>\n",
       "    <tr>\n",
       "      <th>4</th>\n",
       "      <td>NaN</td>\n",
       "      <td>NaN</td>\n",
       "      <td>NaN</td>\n",
       "      <td>NaN</td>\n",
       "      <td>NaN</td>\n",
       "      <td>NaN</td>\n",
       "      <td>NaN</td>\n",
       "      <td>NaN</td>\n",
       "      <td>NaN</td>\n",
       "      <td>NaN</td>\n",
       "      <td>NaN</td>\n",
       "      <td>NaN</td>\n",
       "      <td>NaN</td>\n",
       "      <td>NaN</td>\n",
       "      <td>11</td>\n",
       "      <td>0</td>\n",
       "    </tr>\n",
       "  </tbody>\n",
       "</table>\n",
       "</div>"
      ],
      "text/plain": [
       "   L2_S26_F3036  L2_S26_F3040  L2_S26_F3047  L2_S26_F3051  L2_S26_F3055  \\\n",
       "0           NaN           NaN           NaN           NaN           NaN   \n",
       "1           NaN           NaN           NaN           NaN           NaN   \n",
       "2           NaN           NaN           NaN           NaN           NaN   \n",
       "3           NaN           NaN           NaN           NaN           NaN   \n",
       "4           NaN           NaN           NaN           NaN           NaN   \n",
       "\n",
       "   L2_S26_F3062  L2_S26_F3069  L2_S26_F3073  L2_S26_F3077  L2_S26_F3106  \\\n",
       "0           NaN           NaN           NaN           NaN           NaN   \n",
       "1           NaN           NaN           NaN           NaN           NaN   \n",
       "2           NaN           NaN           NaN           NaN           NaN   \n",
       "3           NaN           NaN           NaN           NaN           NaN   \n",
       "4           NaN           NaN           NaN           NaN           NaN   \n",
       "\n",
       "   L2_S26_F3113  L2_S26_F3117  L2_S26_F3121  L2_S26_F3125  Id  Response  \n",
       "0           NaN           NaN           NaN           NaN   4         0  \n",
       "1           NaN           NaN           NaN           NaN   6         0  \n",
       "2           NaN           NaN           NaN           NaN   7         0  \n",
       "3           NaN           NaN           NaN           NaN   9         0  \n",
       "4           NaN           NaN           NaN           NaN  11         0  "
      ]
     },
     "execution_count": 20,
     "metadata": {},
     "output_type": "execute_result"
    }
   ],
   "source": [
    "df_226.head()"
   ]
  },
  {
   "cell_type": "code",
   "execution_count": 11,
   "metadata": {
    "collapsed": false
   },
   "outputs": [],
   "source": [
    "# output columns with strictly NaN values\n",
    "def strictly_nan(df):\n",
    "    return [col for col in df.columns if df[col].isnull().all()]"
   ]
  },
  {
   "cell_type": "code",
   "execution_count": null,
   "metadata": {
    "collapsed": true
   },
   "outputs": [],
   "source": [
    "# create uid string column and set as index\n",
    "df_226[\"uid\"] = df_226[\"Id\"].apply(lambda x: str(x))\n",
    "df_226.drop(\"Id\", inplace=True, axis=1)\n",
    "df_226.set_index(\"uid\", inplace=True)"
   ]
  },
  {
   "cell_type": "code",
   "execution_count": null,
   "metadata": {
    "collapsed": true
   },
   "outputs": [],
   "source": [
    "# remove Response so that we can correctly check isnull()\n",
    "df_226.drop(\"Response\", inplace=True, axis=1)"
   ]
  },
  {
   "cell_type": "code",
   "execution_count": 37,
   "metadata": {
    "collapsed": false
   },
   "outputs": [],
   "source": [
    "nan_226 = strictly_nan(df_226.T)"
   ]
  },
  {
   "cell_type": "code",
   "execution_count": 38,
   "metadata": {
    "collapsed": false
   },
   "outputs": [
    {
     "data": {
      "text/plain": [
       "956736"
      ]
     },
     "execution_count": 38,
     "metadata": {},
     "output_type": "execute_result"
    }
   ],
   "source": [
    "len(nan_226)"
   ]
  },
  {
   "cell_type": "code",
   "execution_count": 39,
   "metadata": {
    "collapsed": false
   },
   "outputs": [],
   "source": [
    "df_226_cut = df_226.T[list(set(df_226.T.columns) - set(nan_226))].T"
   ]
  },
  {
   "cell_type": "code",
   "execution_count": 40,
   "metadata": {
    "collapsed": false
   },
   "outputs": [
    {
     "data": {
      "text/plain": [
       "227011"
      ]
     },
     "execution_count": 40,
     "metadata": {},
     "output_type": "execute_result"
    }
   ],
   "source": [
    "len(df_226_cut)"
   ]
  },
  {
   "cell_type": "code",
   "execution_count": 41,
   "metadata": {
    "collapsed": false
   },
   "outputs": [
    {
     "data": {
      "text/html": [
       "<div>\n",
       "<table border=\"1\" class=\"dataframe\">\n",
       "  <thead>\n",
       "    <tr style=\"text-align: right;\">\n",
       "      <th></th>\n",
       "      <th>L2_S26_F3036</th>\n",
       "      <th>L2_S26_F3040</th>\n",
       "      <th>L2_S26_F3047</th>\n",
       "      <th>L2_S26_F3051</th>\n",
       "      <th>L2_S26_F3055</th>\n",
       "      <th>L2_S26_F3062</th>\n",
       "      <th>L2_S26_F3069</th>\n",
       "      <th>L2_S26_F3073</th>\n",
       "      <th>L2_S26_F3077</th>\n",
       "      <th>L2_S26_F3106</th>\n",
       "      <th>L2_S26_F3113</th>\n",
       "      <th>L2_S26_F3117</th>\n",
       "      <th>L2_S26_F3121</th>\n",
       "      <th>L2_S26_F3125</th>\n",
       "    </tr>\n",
       "    <tr>\n",
       "      <th>uid</th>\n",
       "      <th></th>\n",
       "      <th></th>\n",
       "      <th></th>\n",
       "      <th></th>\n",
       "      <th></th>\n",
       "      <th></th>\n",
       "      <th></th>\n",
       "      <th></th>\n",
       "      <th></th>\n",
       "      <th></th>\n",
       "      <th></th>\n",
       "      <th></th>\n",
       "      <th></th>\n",
       "      <th></th>\n",
       "    </tr>\n",
       "  </thead>\n",
       "  <tbody>\n",
       "    <tr>\n",
       "      <th>1583071</th>\n",
       "      <td>-0.138</td>\n",
       "      <td>0.066</td>\n",
       "      <td>-0.003</td>\n",
       "      <td>-0.090</td>\n",
       "      <td>-0.031</td>\n",
       "      <td>0.033</td>\n",
       "      <td>-0.046</td>\n",
       "      <td>0.105</td>\n",
       "      <td>-0.035</td>\n",
       "      <td>-0.006</td>\n",
       "      <td>0.018</td>\n",
       "      <td>0.060</td>\n",
       "      <td>-0.075</td>\n",
       "      <td>-0.034</td>\n",
       "    </tr>\n",
       "    <tr>\n",
       "      <th>228055</th>\n",
       "      <td>-0.045</td>\n",
       "      <td>-0.032</td>\n",
       "      <td>-0.130</td>\n",
       "      <td>-0.004</td>\n",
       "      <td>-0.031</td>\n",
       "      <td>0.004</td>\n",
       "      <td>0.020</td>\n",
       "      <td>0.158</td>\n",
       "      <td>-0.035</td>\n",
       "      <td>0.055</td>\n",
       "      <td>-0.080</td>\n",
       "      <td>0.053</td>\n",
       "      <td>-0.011</td>\n",
       "      <td>-0.034</td>\n",
       "    </tr>\n",
       "    <tr>\n",
       "      <th>287146</th>\n",
       "      <td>-0.082</td>\n",
       "      <td>0.156</td>\n",
       "      <td>-0.032</td>\n",
       "      <td>0.000</td>\n",
       "      <td>-0.031</td>\n",
       "      <td>0.058</td>\n",
       "      <td>0.069</td>\n",
       "      <td>-0.090</td>\n",
       "      <td>-0.035</td>\n",
       "      <td>0.002</td>\n",
       "      <td>-0.029</td>\n",
       "      <td>-0.011</td>\n",
       "      <td>0.019</td>\n",
       "      <td>-0.034</td>\n",
       "    </tr>\n",
       "    <tr>\n",
       "      <th>228056</th>\n",
       "      <td>-0.045</td>\n",
       "      <td>-0.032</td>\n",
       "      <td>-0.130</td>\n",
       "      <td>-0.004</td>\n",
       "      <td>-0.031</td>\n",
       "      <td>0.004</td>\n",
       "      <td>0.020</td>\n",
       "      <td>0.158</td>\n",
       "      <td>-0.035</td>\n",
       "      <td>0.055</td>\n",
       "      <td>-0.080</td>\n",
       "      <td>0.053</td>\n",
       "      <td>-0.011</td>\n",
       "      <td>-0.034</td>\n",
       "    </tr>\n",
       "    <tr>\n",
       "      <th>287140</th>\n",
       "      <td>-0.211</td>\n",
       "      <td>-0.205</td>\n",
       "      <td>0.064</td>\n",
       "      <td>0.168</td>\n",
       "      <td>-0.031</td>\n",
       "      <td>-0.204</td>\n",
       "      <td>-0.125</td>\n",
       "      <td>0.050</td>\n",
       "      <td>-0.035</td>\n",
       "      <td>-0.586</td>\n",
       "      <td>0.019</td>\n",
       "      <td>-0.083</td>\n",
       "      <td>0.168</td>\n",
       "      <td>-0.034</td>\n",
       "    </tr>\n",
       "  </tbody>\n",
       "</table>\n",
       "</div>"
      ],
      "text/plain": [
       "         L2_S26_F3036  L2_S26_F3040  L2_S26_F3047  L2_S26_F3051  L2_S26_F3055  \\\n",
       "uid                                                                             \n",
       "1583071        -0.138         0.066        -0.003        -0.090        -0.031   \n",
       "228055         -0.045        -0.032        -0.130        -0.004        -0.031   \n",
       "287146         -0.082         0.156        -0.032         0.000        -0.031   \n",
       "228056         -0.045        -0.032        -0.130        -0.004        -0.031   \n",
       "287140         -0.211        -0.205         0.064         0.168        -0.031   \n",
       "\n",
       "         L2_S26_F3062  L2_S26_F3069  L2_S26_F3073  L2_S26_F3077  L2_S26_F3106  \\\n",
       "uid                                                                             \n",
       "1583071         0.033        -0.046         0.105        -0.035        -0.006   \n",
       "228055          0.004         0.020         0.158        -0.035         0.055   \n",
       "287146          0.058         0.069        -0.090        -0.035         0.002   \n",
       "228056          0.004         0.020         0.158        -0.035         0.055   \n",
       "287140         -0.204        -0.125         0.050        -0.035        -0.586   \n",
       "\n",
       "         L2_S26_F3113  L2_S26_F3117  L2_S26_F3121  L2_S26_F3125  \n",
       "uid                                                              \n",
       "1583071         0.018         0.060        -0.075        -0.034  \n",
       "228055         -0.080         0.053        -0.011        -0.034  \n",
       "287146         -0.029        -0.011         0.019        -0.034  \n",
       "228056         -0.080         0.053        -0.011        -0.034  \n",
       "287140          0.019        -0.083         0.168        -0.034  "
      ]
     },
     "execution_count": 41,
     "metadata": {},
     "output_type": "execute_result"
    }
   ],
   "source": [
    "df_226_cut.head()"
   ]
  },
  {
   "cell_type": "code",
   "execution_count": 65,
   "metadata": {
    "collapsed": true
   },
   "outputs": [],
   "source": [
    "from matplotlib import pyplot as plt"
   ]
  },
  {
   "cell_type": "code",
   "execution_count": 63,
   "metadata": {
    "collapsed": true
   },
   "outputs": [],
   "source": [
    "# iterate over all 15 features and generate plots\n",
    "def generate_plots(df, size):\n",
    "    \"\"\"\n",
    "        Helper function to generate a grid of plots for the\n",
    "        assumed features of a dataframe. Should be used strictly\n",
    "        for relative-feature inspection (i.e. how do plots for each\n",
    "        feature compare to one another).\n",
    "        \n",
    "        Parameters\n",
    "        ----------\n",
    "        df : {pandas.DataFrame}\n",
    "            data set consisting of features (columns) and records (row index)\n",
    "        \n",
    "        size : {tuple}\n",
    "            grid representation; rows and columns of the grid correspond\n",
    "            to index 0 and 1, respectively\n",
    "\"\"\"\n",
    "    numerical_ids = [int(id) for id in df.index.tolist()]\n",
    "    fig = matplotlib.pyplot.figure(figsize=(20, 20), dpi=400)\n",
    "    for idx, col in enumerate(df.columns):\n",
    "        axes = fig.add_subplot(size[0], size[1], idx+1)\n",
    "        axes.plot(zip(numerical_ids, df[col].tolist()))\n",
    "    \n",
    "    matplotlib.pyplot.show()"
   ]
  },
  {
   "cell_type": "code",
   "execution_count": null,
   "metadata": {
    "collapsed": true
   },
   "outputs": [],
   "source": []
  }
 ],
 "metadata": {
  "anaconda-cloud": {},
  "kernelspec": {
   "display_name": "Python [Root]",
   "language": "python",
   "name": "Python [Root]"
  },
  "language_info": {
   "codemirror_mode": {
    "name": "ipython",
    "version": 2
   },
   "file_extension": ".py",
   "mimetype": "text/x-python",
   "name": "python",
   "nbconvert_exporter": "python",
   "pygments_lexer": "ipython2",
   "version": "2.7.12"
  }
 },
 "nbformat": 4,
 "nbformat_minor": 0
}
